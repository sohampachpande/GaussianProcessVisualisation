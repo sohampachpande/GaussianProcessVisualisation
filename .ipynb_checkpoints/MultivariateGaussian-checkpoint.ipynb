{
 "cells": [
  {
   "cell_type": "markdown",
   "metadata": {},
   "source": [
    "# HTML Widgets"
   ]
  },
  {
   "cell_type": "code",
   "execution_count": 16,
   "metadata": {
    "scrolled": false
   },
   "outputs": [
    {
     "data": {
      "application/vnd.jupyter.widget-view+json": {
       "model_id": "c2e26e9a91514baa9827837de6f72f50",
       "version_major": 2,
       "version_minor": 0
      },
      "text/plain": [
       "interactive(children=(IntSlider(value=5, description='k', max=10), IntSlider(value=5, description='m', max=10)…"
      ]
     },
     "metadata": {},
     "output_type": "display_data"
    }
   ],
   "source": [
    "from __future__ import print_function\n",
    "from ipywidgets import interact, interactive, fixed, interact_manual\n",
    "import ipywidgets as widgets\n",
    "from IPython.display import display\n",
    "\n",
    "from mpl_toolkits import mplot3d\n",
    "import matplotlib.pyplot as plt\n",
    "from scipy.stats import multivariate_normal\n",
    "import numpy\n",
    "import nbinteract as nbi\n",
    "\n",
    "%matplotlib notebook\n",
    "\n",
    "def f(k,m,cov11=1,cov12=0,cov21=0,cov22=1):\n",
    "    \n",
    "    cov11=float(cov11)\n",
    "    cov12=float(cov12)\n",
    "    cov21=float(cov21)\n",
    "    cov22=float(cov22)\n",
    "    \n",
    "    x = numpy.linspace(0, 10, 100)\n",
    "    y = numpy.linspace(0, 10, 100)\n",
    "    X, Y = numpy.meshgrid(x, y)\n",
    "    pos = numpy.dstack((X, Y))\n",
    "    mu = numpy.array([k,m])\n",
    "    cov = numpy.array([[cov11, cov12],[cov21, cov22]])\n",
    "    rv = multivariate_normal(mu, cov)\n",
    "    Z = rv.pdf(pos)\n",
    "    fig = plt.figure(figsize=(8,8))\n",
    "    ax = fig.add_subplot(111, projection='3d')\n",
    "    ax.plot_surface(X, Y, Z, cmap='Reds')\n",
    "    ax.set_axis_off()\n",
    "    fig.show()\n",
    "\n",
    "t = interact(f, k=(0,10),m=(0,10), cov11='5',cov12='0',cov21='0',cov22='5');"
   ]
  },
  {
   "cell_type": "code",
   "execution_count": null,
   "metadata": {},
   "outputs": [],
   "source": []
  }
 ],
 "metadata": {
  "kernelspec": {
   "display_name": "Python 3",
   "language": "python",
   "name": "python3"
  },
  "language_info": {
   "codemirror_mode": {
    "name": "ipython",
    "version": 3
   },
   "file_extension": ".py",
   "mimetype": "text/x-python",
   "name": "python",
   "nbconvert_exporter": "python",
   "pygments_lexer": "ipython3",
   "version": "3.6.7"
  }
 },
 "nbformat": 4,
 "nbformat_minor": 2
}
