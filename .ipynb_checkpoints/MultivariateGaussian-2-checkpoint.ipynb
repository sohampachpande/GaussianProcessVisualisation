{
 "cells": [
  {
   "cell_type": "code",
   "execution_count": null,
   "metadata": {},
   "outputs": [],
   "source": [
    "#nbi:hide_in\n",
    "from __future__ import print_function\n",
    "from ipywidgets import interact, interactive, fixed, interact_manual\n",
    "import ipywidgets as widgets\n",
    "from IPython.display import display\n",
    "\n",
    "from mpl_toolkits import mplot3d\n",
    "import matplotlib.pyplot as plt\n",
    "from scipy.stats import multivariate_normal, norm\n",
    "import numpy\n",
    "import nbinteract as nbi\n",
    "import seaborn as sns\n",
    "import scipy"
   ]
  },
  {
   "cell_type": "markdown",
   "metadata": {},
   "source": [
    "# Gaussian Distribution"
   ]
  },
  {
   "cell_type": "markdown",
   "metadata": {},
   "source": [
    "Gaussian Distributions are a powerful tool for statistical and Machine Learning tasks. They are used in fitting regression models, clustering and much more.\n",
    "A gaussian distribution in a random variable X with mean μ and variance σ is a continuous statistic distribution on domain x∊(-∞,+∞) with probability density function given by the below equation. It is a bell curved shape probability distribution."
   ]
  },
  {
   "cell_type": "markdown",
   "metadata": {},
   "source": [
    "##### $$p(x \\mid \\mu, \\sigma) = \\frac{1}{\\sqrt{2\\pi\\sigma}} \\exp\\left\\{ -\\frac{(x-\\mu)^2}{\\sigma^2}\\right\\}$$"
   ]
  },
  {
   "cell_type": "markdown",
   "metadata": {},
   "source": [
    "### Visualisation of Gaussian Distribution"
   ]
  },
  {
   "cell_type": "markdown",
   "metadata": {},
   "source": [
    "The following widget visualises Gaussian Distribution in Single Variable"
   ]
  },
  {
   "cell_type": "code",
   "execution_count": 2,
   "metadata": {},
   "outputs": [
    {
     "data": {
      "application/vnd.jupyter.widget-view+json": {
       "model_id": "bdcd3d0b1dd54f6ba2c04926cef49233",
       "version_major": 2,
       "version_minor": 0
      },
      "text/plain": [
       "interactive(children=(IntSlider(value=5, description='Mu', max=10), FloatSlider(value=7.5, description='Sigma'…"
      ]
     },
     "metadata": {},
     "output_type": "display_data"
    }
   ],
   "source": [
    "#nbi:hide_in\n",
    "def single_g(Mu, Sigma):\n",
    "    \n",
    "    x = numpy.linspace(-2.5, 12.5, 100)\n",
    "    rv = multivariate_normal(Mu, Sigma)\n",
    "    Z = rv.pdf(x)\n",
    "    \n",
    "    fig = plt.figure(figsize=(12,12))\n",
    "    \n",
    "    ax1 = fig.add_subplot(111)\n",
    "    ax1.plot(x, Z)\n",
    "    fig.show()\n",
    "    ax1.set_title(\"Normal Distribution\")\n",
    "    ax1.set_xticks([])\n",
    "    ax1.set_yticks([])\n",
    "single_g = interact(single_g, Mu=(0,10), Sigma=(0.1,15,0.1));"
   ]
  },
  {
   "cell_type": "markdown",
   "metadata": {},
   "source": [
    "Many things closely follow a Normal Distribution:\n",
    "1. Heights of people\n",
    "2. Error in Measurement\n",
    "### & Marks on a test!"
   ]
  },
  {
   "cell_type": "markdown",
   "metadata": {},
   "source": [
    "## Fitting a single Gaussian"
   ]
  },
  {
   "cell_type": "markdown",
   "metadata": {},
   "source": [
    "Let us generate some data"
   ]
  },
  {
   "cell_type": "code",
   "execution_count": 3,
   "metadata": {},
   "outputs": [],
   "source": [
    "#nbi:hide_in\n",
    "def pdf_func_1(x_array, amp, mean, sigma):\n",
    "    return amp*(1/(sigma*(numpy.sqrt(2*numpy.pi))))*(numpy.exp(-((x_array-mean)**2)/((2*sigma)**2)))\n"
   ]
  },
  {
   "cell_type": "code",
   "execution_count": 4,
   "metadata": {},
   "outputs": [
    {
     "data": {
      "application/vnd.jupyter.widget-view+json": {
       "model_id": "7e9dd50206d041b9afa3fb4ce18866e7",
       "version_major": 2,
       "version_minor": 0
      },
      "text/plain": [
       "interactive(children=(IntSlider(value=75, description='Mean', max=90, min=50), IntSlider(value=15, description…"
      ]
     },
     "metadata": {},
     "output_type": "display_data"
    }
   ],
   "source": [
    "#nbi:hide_in\n",
    "def generate_marks(Mean=75,Sigma=15, Noise=5):\n",
    "    # linearly spaced x-axis of 10 values between 1 and 10\n",
    "    x_array = numpy.linspace(1,100,50)\n",
    "\n",
    "    amp1 = 2000\n",
    "    y_array_gauss = pdf_func_1(x_array, amp1, Mean, Sigma)\n",
    "    # creating some noise to add the the y-axis data\n",
    "    y_noise_gauss = numpy.random.normal(0,Noise,50)\n",
    "    y_array_gauss += y_noise_gauss\n",
    "    fig = plt.figure(figsize=(12,12))\n",
    "    ax1 = fig.add_subplot(111)\n",
    "    ax1.set_ylim(0,150)\n",
    "    ax1.set_title(\"Marks in ML\")\n",
    "    ax1.scatter(x_array, y_array_gauss)\n",
    "    \n",
    "y_ = interact(generate_marks, Mean=(50,90), Sigma=(1,25,1), Noise=(1,10));"
   ]
  },
  {
   "cell_type": "code",
   "execution_count": 22,
   "metadata": {},
   "outputs": [
    {
     "data": {
      "application/vnd.jupyter.widget-view+json": {
       "model_id": "b0768b4f52df4dbcab395ddf5b8ed6be",
       "version_major": 2,
       "version_minor": 0
      },
      "text/plain": [
       "interactive(children=(IntSlider(value=75, description='Mean', max=90, min=50), IntSlider(value=15, description…"
      ]
     },
     "metadata": {},
     "output_type": "display_data"
    }
   ],
   "source": [
    "#nbi:hide_in\n",
    "\n",
    "def fit_marks_1(Mean=75,Sigma=15, Noise=5):\n",
    "# linearly spaced x-axis of 10 values between 1 and 10\n",
    "    x_array = numpy.linspace(1,100,50)\n",
    "\n",
    "    amp1 = 2000\n",
    "    y_array_gauss = pdf_func_1(x_array, amp1, Mean, Sigma)\n",
    "    # creating some noise to add the the y-axis data\n",
    "    y_noise_gauss = numpy.random.normal(0,Noise,50)\n",
    "    y_array_gauss += y_noise_gauss\n",
    "    fig = plt.figure(figsize=(12,12))\n",
    "    ax1 = fig.add_subplot(111)\n",
    "    ax1.set_ylim(0,150)\n",
    "    ax1.set_title(\"Marks in ML\")\n",
    "    ax1.scatter(x_array, y_array_gauss)\n",
    "\n",
    "    popt_gauss, pcov_gauss = scipy.optimize.curve_fit(pdf_func_1, x_array, y_array_gauss, p0=[amp1, Mean, Sigma])\n",
    "    gen_norm = pdf_func_1(x_array, popt_gauss[0], popt_gauss[1],popt_gauss[2])\n",
    "    ax1.plot(x_array,gen_norm)\n",
    "    \n",
    "\n",
    "gen_marks = interact(fit_marks_1, Mean=(50,90), Sigma=(1,25,1), Noise=(1,10));"
   ]
  },
  {
   "cell_type": "markdown",
   "metadata": {},
   "source": [
    "## Fitting a two Gaussian Variables"
   ]
  },
  {
   "cell_type": "code",
   "execution_count": 7,
   "metadata": {},
   "outputs": [],
   "source": [
    "#nbi:hide_in\n",
    "def pdf_func_2(x_array, amp1, mean1, sigma1, amp2, mean2, sigma2):\n",
    "    return amp1*(1/(sigma1*(numpy.sqrt(2*numpy.pi))))*(numpy.exp(-((x_array-mean1)**2)/((2*sigma1)**2))) + amp2*(1/(sigma2*(numpy.sqrt(2*numpy.pi))))*(numpy.exp(-((x_array-mean2)**2)/((2*sigma2)**2)))"
   ]
  },
  {
   "cell_type": "code",
   "execution_count": 24,
   "metadata": {},
   "outputs": [
    {
     "data": {
      "application/vnd.jupyter.widget-view+json": {
       "model_id": "6e6a38aa30464ab492c2224c3309a1db",
       "version_major": 2,
       "version_minor": 0
      },
      "text/plain": [
       "interactive(children=(IntSlider(value=75, description='Mean1', max=90, min=50), IntSlider(value=10, descriptio…"
      ]
     },
     "metadata": {},
     "output_type": "display_data"
    }
   ],
   "source": [
    "#nbi:hide_in\n",
    "def fit_marks_1(Mean1=75,Sigma1=15,Mean2=75,Sigma2=15,Noise=5):\n",
    "# linearly spaced x-axis of 10 values between 1 and 10\n",
    "    x_array = numpy.linspace(1,100,50)\n",
    "\n",
    "    amp1 = 1000\n",
    "    amp2 = 1000\n",
    "    y_array_gauss = pdf_func_2(x_array, amp1, Mean1, Sigma1, amp2, Mean2, Sigma2)\n",
    "    # creating some noise to add the the y-axis data\n",
    "    y_noise_gauss = numpy.random.normal(0,Noise,50)\n",
    "    y_array_gauss += y_noise_gauss\n",
    "    fig = plt.figure(figsize=(12,12))\n",
    "    ax1 = fig.add_subplot(111)\n",
    "    ax1.set_ylim(0,150)\n",
    "    ax1.set_title(\"Marks in ML + Marks in DataScience\")\n",
    "\n",
    "    popt_gauss, pcov_gauss = scipy.optimize.curve_fit(pdf_func_2, x_array, y_array_gauss, p0=[amp1, Mean1, Sigma1,amp2, Mean2, Sigma2])\n",
    "#     pars_1 = popt_2gauss[0:3]\n",
    "#     pars_2 = popt_2gauss[3:6]\n",
    "#     gauss_peak_1 = _1gaussian(x_array, *pars_1)\n",
    "#     gauss_peak_2 = _1gaussian(x_array, *pars_2)\n",
    "    gen_norm1 = pdf_func_1(x_array, popt_gauss[0], popt_gauss[1],popt_gauss[2])\n",
    "    gen_norm2 = pdf_func_1(x_array, popt_gauss[3], popt_gauss[4],popt_gauss[5])\n",
    "    ax1.plot(x_array, gen_norm1)\n",
    "    ax1.plot(x_array,gen_norm2)\n",
    "    ax1.scatter(x_array, y_array_gauss)\n",
    "    \n",
    "gen_marks_2 = interact(fit_marks_1, Mean1=(50,90), Sigma1=(1,10,1),Mean2=(50,90), Sigma2=(1,10,1), Noise=(1,10));"
   ]
  },
  {
   "cell_type": "code",
   "execution_count": null,
   "metadata": {},
   "outputs": [],
   "source": []
  },
  {
   "cell_type": "markdown",
   "metadata": {},
   "source": [
    "# Importance of Gaussian Distribution"
   ]
  },
  {
   "cell_type": "markdown",
   "metadata": {},
   "source": [
    "### Central Limit Theorem"
   ]
  },
  {
   "cell_type": "code",
   "execution_count": 12,
   "metadata": {},
   "outputs": [
    {
     "data": {
      "image/png": "[encoded data removed]",
      "text/plain": [
       "<Figure size 432x288 with 1 Axes>"
      ]
     },
     "metadata": {
      "needs_background": "light"
     },
     "output_type": "display_data"
    }
   ],
   "source": [
    "def lawlargeNumbers(mean,sigma,samples):\n",
    "    # Generate some data for this demonstration.\n",
    "    data = norm.rvs(mean, sigma, size=samples)\n",
    "\n",
    "    # Fit a normal distribution to the data:\n",
    "    mu, std = norm.fit(data)\n",
    "\n",
    "    # Plot the histogram.\n",
    "    plt.hist(data, bins=25, density=True, alpha=0.6, color='g')\n",
    "\n",
    "    # Plot the PDF.\n",
    "    xmin, xmax = plt.xlim()\n",
    "    x = numpy.linspace(xmin, xmax, 100)\n",
    "    p = norm.pdf(x, mu, std)\n",
    "    plt.plot(x, p, 'k', linewidth=2)\n",
    "    title = \"Fit results: mu = %.2f,  std = %.2f\" % (mu, std)\n",
    "    plt.title(title)\n",
    "\n",
    "    plt.show()\n",
    "\n",
    "lawlargeNumbers(5,10,10)"
   ]
  },
  {
   "cell_type": "code",
   "execution_count": null,
   "metadata": {},
   "outputs": [],
   "source": []
  },
  {
   "cell_type": "code",
   "execution_count": null,
   "metadata": {},
   "outputs": [],
   "source": []
  },
  {
   "cell_type": "markdown",
   "metadata": {},
   "source": [
    "## Multivariate Gaussian Variables"
   ]
  },
  {
   "cell_type": "markdown",
   "metadata": {},
   "source": [
    "The probability distribution function for multivariate gaussian distribution in given by the bellow expression. Here μ is a vector of means of normal distribution in every dimension and Σ is the covariance matrix"
   ]
  },
  {
   "cell_type": "markdown",
   "metadata": {},
   "source": [
    "$$p(x \\mid \\mu, \\Sigma) = (2\\pi)^{-k/2}|\\Sigma|^{-1/2} \\exp\\left\\{ -\\frac{1}{2} (x-\\mu)^{\\prime}\\Sigma^{-1}(x-\\mu) \\right\\}$$"
   ]
  },
  {
   "cell_type": "markdown",
   "metadata": {},
   "source": [
    "### Visualisation of Gaussian Distribution in 2 variables"
   ]
  },
  {
   "cell_type": "code",
   "execution_count": null,
   "metadata": {
    "scrolled": false
   },
   "outputs": [],
   "source": [
    "#nbi:hide_in\n",
    "def f(Mean1,Mean2,Cov11=1,Cov12=0,Cov21=0,Cov22=1):\n",
    "    \n",
    "    try: \n",
    "        Cov11=float(Cov11)\n",
    "        Cov12=float(Cov12)\n",
    "        Cov21=float(Cov21)\n",
    "        Cov22=float(Cov22)\n",
    "    except:\n",
    "        print(\"Invalid Covariance Values\")\n",
    "        return\n",
    "    \n",
    "    x = numpy.linspace(0, 10, 100)\n",
    "    y = numpy.linspace(0, 10, 100)\n",
    "    X, Y = numpy.meshgrid(x, y)\n",
    "    pos = numpy.dstack((X, Y))\n",
    "    mu = numpy.array([Mean1,Mean2])\n",
    "    try:\n",
    "        cov = numpy.array([[Cov11, Cov12],[Cov21, Cov22]])\n",
    "        rv = multivariate_normal(mu, cov)\n",
    "        Z = rv.pdf(pos)\n",
    "    except:\n",
    "        print(\"Invalid Covariance Matrix: Not a positive semi-definite Matrix\\nPlease try other values\")\n",
    "        return\n",
    "    \n",
    "    fig = plt.figure(figsize=(15,8))\n",
    "    \n",
    "    ax1 = fig.add_subplot(121, projection='3d')\n",
    "    ax1.plot_surface(X, Y, Z, cmap='RdPu')\n",
    "    ax2 = fig.add_subplot(122)\n",
    "    ax2.contourf(X,Y,Z,levels=25,cmap='RdPu')\n",
    "    \n",
    "    ax1.set_title(\"Probability Distribution Function\")\n",
    "    ax2.set_title(\"Contour Plot\")\n",
    "    \n",
    "    ax2.set_axis_off()\n",
    "    ax1.set_axis_off()\n",
    "    ax1.set_xticks([])\n",
    "    ax1.set_yticks([])\n",
    "    ax1.set_zticks([])\n",
    "\n",
    "t = interact(f, Mean1=(0,10),Mean2=(0,10), Cov11='5',Cov12='0',Cov21='0',Cov22='5');"
   ]
  },
  {
   "cell_type": "markdown",
   "metadata": {},
   "source": [
    "## Gaussian Process Fitting"
   ]
  },
  {
   "cell_type": "code",
   "execution_count": null,
   "metadata": {},
   "outputs": [],
   "source": [
    "from sklearn import gaussian_process\n",
    "from sklearn.gaussian_process.kernels import Matern, WhiteKernel, ConstantKernel"
   ]
  },
  {
   "cell_type": "code",
   "execution_count": null,
   "metadata": {},
   "outputs": [],
   "source": [
    "kernel = ConstantKernel() + Matern(length_scale=2, nu=3/2) + WhiteKernel(noise_level=1)"
   ]
  },
  {
   "cell_type": "code",
   "execution_count": null,
   "metadata": {},
   "outputs": [],
   "source": [
    "x = numpy.array([-5, -4.9, -4.8, -4.7, -4.6, -4.5, -4.4, -4.3, -4.2, -4.1, -4, \n",
    "-3.9, -3.8, -3.7, -3.6, -3.5, -3.4, -3.3, -3.2, -3.1, -3, -2.9, \n",
    "-2.8, -2.7, -2.6, -2.5, -2.4, -2.3, -2.2, -2.1, -2, -1.9, -1.8, \n",
    "-1.7, -1.6, -1.5, -1.4, -1.3, -1.2, -1.1, -1, -0.9, -0.8, -0.7, \n",
    "-0.6, -0.5, -0.4, -0.3, -0.2, -0.1, 0, 0.1, 0.2, 0.3, 0.4, 0.5, \n",
    "0.6, 0.7, 0.8, 0.9, 1, 1.1, 1.2, 1.3, 1.4, 1.5, 1.6, 1.7, 1.8, \n",
    "1.9, 2, 2.1, 2.2, 2.3, 2.4, 2.5, 2.6, 2.7, 2.8, 2.9, 3, 3.1, \n",
    "3.2, 3.3, 3.4, 3.5, 3.6, 3.7, 3.8, 3.9, 4, 4.1, 4.2, 4.3, 4.4, \n",
    "4.5, 4.6, 4.7, 4.8, 4.9, 5])\n",
    " \n",
    "y = numpy.array([1.04442478194401, 0.948306088493654, 0.357037759697332, 0.492336514646604, \n",
    "0.520651364364746, 0.112629866592809, 0.470995468454158, -0.168442254267804, \n",
    "0.0720344402575861, -0.188108980535916, -0.0160163306512027, \n",
    "-0.0388792158617705, -0.0600673630622568, 0.113568725264636, \n",
    "0.447160403837629, 0.664421188556779, -0.139510743820276, 0.458823971660986, \n",
    "0.141214654640904, -0.286957663528091, -0.466537724021695, -0.308185884317105, \n",
    "-1.57664872694079, -1.44463024170082, -1.51206214603847, -1.49393593601901, \n",
    "-2.02292464164487, -1.57047488853653, -1.22973445533419, -1.51502367058357, \n",
    "-1.41493587255224, -1.10140254663611, -0.591866485375275, -1.08781838696462, \n",
    "-0.800375653733931, -1.00764767602679, -0.0471028950122742, -0.536820626879737, \n",
    "-0.151688056391446, -0.176771681318393, -0.240094952335518, -1.16827876746502, \n",
    "-0.493597351974992, -0.831683011472805, -0.152347043914137, 0.0190364158178343, \n",
    "-1.09355955218051, -0.328157917911376, -0.585575679802941, -0.472837120425201, \n",
    "-0.503633622750049, -0.0124446353828312, -0.465529814250314, \n",
    "-0.101621725887347, -0.26988462590405, 0.398726664193302, 0.113805181040188, \n",
    "0.331353802465398, 0.383592361618461, 0.431647298655434, 0.580036473774238, \n",
    "0.830404669466897, 1.17919105883462, 0.871037583886711, 1.12290553424174, \n",
    "0.752564860804382, 0.76897960270623, 1.14738839410786, 0.773151715269892, \n",
    "0.700611498974798, 0.0412951045437818, 0.303526087747629, -0.139399513324585, \n",
    "-0.862987735433697, -1.23399179134008, -1.58924289116396, -1.35105117911049, \n",
    "-0.990144529089174, -1.91175364127672, -1.31836236129543, -1.65955735224704, \n",
    "-1.83516148300526, -2.03817062501248, -1.66764011409214, -0.552154350554687, \n",
    "-0.547807883952654, -0.905389222477036, -0.737156477425302, -0.40211249920415, \n",
    "0.129669958952991, 0.271142753510592, 0.176311762529962, 0.283580281859344, \n",
    "0.635808289696458, 1.69976647982837, 1.10748978734239, 0.365412229181044, \n",
    "0.788821368082444, 0.879731888124867, 1.02180766619069, 0.551526067300283])"
   ]
  },
  {
   "cell_type": "code",
   "execution_count": null,
   "metadata": {},
   "outputs": [],
   "source": [
    "X = x.reshape(-1, 1)\n",
    "X.shape"
   ]
  },
  {
   "cell_type": "code",
   "execution_count": null,
   "metadata": {},
   "outputs": [],
   "source": [
    "gp = gaussian_process.GaussianProcessRegressor(kernel=kernel)\n",
    "gp.fit(X, y)"
   ]
  },
  {
   "cell_type": "code",
   "execution_count": null,
   "metadata": {},
   "outputs": [],
   "source": [
    "x_pred = numpy.linspace(-6, 6).reshape(-1,1)\n",
    "y_pred, sigma = gp.predict(x_pred, return_std=True)"
   ]
  },
  {
   "cell_type": "code",
   "execution_count": null,
   "metadata": {},
   "outputs": [],
   "source": [
    "gp.get_params()"
   ]
  },
  {
   "cell_type": "code",
   "execution_count": null,
   "metadata": {},
   "outputs": [],
   "source": [
    "plt.figure(figsize=(10,8))\n",
    "sns.regplot(x, y, fit_reg=False, label='Data')\n",
    "plt.plot(x_pred, y_pred, color='grey', label='Prediction')\n",
    "plt.fill(numpy.concatenate([x_pred, x_pred[::-1]]),\n",
    "         numpy.concatenate([y_pred - 2*sigma,\n",
    "                        (y_pred + 2*sigma)[::-1]]),\n",
    "         alpha=.5, fc='grey', ec='None', label='95% CI')\n",
    "plt.xlabel('$x$')\n",
    "plt.ylabel('$f(x)$')\n",
    "plt.xlim(-6, 6)\n",
    "plt.ylim(-3, 3)\n",
    "plt.legend(loc='lower left');"
   ]
  },
  {
   "cell_type": "code",
   "execution_count": null,
   "metadata": {},
   "outputs": [],
   "source": []
  }
 ],
 "metadata": {
  "kernelspec": {
   "display_name": "Python 3",
   "language": "python",
   "name": "python3"
  },
  "language_info": {
   "codemirror_mode": {
    "name": "ipython",
    "version": 3
   },
   "file_extension": ".py",
   "mimetype": "text/x-python",
   "name": "python",
   "nbconvert_exporter": "python",
   "pygments_lexer": "ipython3",
   "version": "3.6.7"
  }
 },
 "nbformat": 4,
 "nbformat_minor": 2
}
