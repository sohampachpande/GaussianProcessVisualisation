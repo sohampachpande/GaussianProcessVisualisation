{
 "cells": [
  {
   "cell_type": "code",
   "execution_count": 6,
   "metadata": {},
   "outputs": [],
   "source": [
    "#nbi:hide_in\n",
    "from __future__ import print_function\n",
    "from ipywidgets import interact, interactive, fixed, interact_manual\n",
    "import ipywidgets as widgets\n",
    "from IPython.display import display\n",
    "\n",
    "from mpl_toolkits import mplot3d\n",
    "import matplotlib.pyplot as plt\n",
    "from scipy.stats import multivariate_normal\n",
    "import numpy\n",
    "import nbinteract as nbi"
   ]
  },
  {
   "cell_type": "markdown",
   "metadata": {},
   "source": [
    "# Gaussian Distribution"
   ]
  },
  {
   "cell_type": "markdown",
   "metadata": {},
   "source": [
    "Gaussian Distributions are a powerful tool for statistical and Machine Learning tasks. They are used in fitting regression models, clustering and much more.\n",
    "A gaussian distribution in a random variable X with mean μ and variance σ is a continuous statistic distribution on domain x∊(-∞,+∞) with probability density function given by the below equation. It is a bell curved shape probability distribution."
   ]
  },
  {
   "cell_type": "markdown",
   "metadata": {},
   "source": [
    "##### $$p(x \\mid \\mu, \\sigma) = \\frac{1}{\\sqrt{2\\pi\\sigma}} \\exp\\left\\{ -\\frac{(x-\\mu)^2}{\\sigma^2}\\right\\}$$"
   ]
  },
  {
   "cell_type": "markdown",
   "metadata": {},
   "source": [
    "### Visualisation of Gaussian Distribution"
   ]
  },
  {
   "cell_type": "markdown",
   "metadata": {},
   "source": [
    "The following widget visualises Gaussian Distribution in Single Variable"
   ]
  },
  {
   "cell_type": "code",
   "execution_count": 24,
   "metadata": {},
   "outputs": [
    {
     "data": {
      "application/vnd.jupyter.widget-view+json": {
       "model_id": "7e4a716ae3b1451b9ae9dfafdd0be850",
       "version_major": 2,
       "version_minor": 0
      },
      "text/plain": [
       "interactive(children=(IntSlider(value=5, description='Mu', max=10), FloatSlider(value=7.5, description='Sigma'…"
      ]
     },
     "metadata": {},
     "output_type": "display_data"
    }
   ],
   "source": [
    "#nbi:hide_in\n",
    "def single_g(Mu, Sigma):\n",
    "    \n",
    "    x = numpy.linspace(-2.5, 12.5, 100)\n",
    "    rv = multivariate_normal(Mu, Sigma)\n",
    "    Z = rv.pdf(x)\n",
    "    \n",
    "    fig = plt.figure()\n",
    "    \n",
    "    ax1 = fig.add_subplot(111)\n",
    "    ax1.plot(x, Z)\n",
    "    fig.show()\n",
    "    ax1.set_title(\"Normal Distribution\")\n",
    "    ax1.set_xticks([])\n",
    "    ax1.set_yticks([])\n",
    "single_g = interact(single_g, Mu=(0,10), Sigma=(0.1,15,0.1));"
   ]
  },
  {
   "cell_type": "markdown",
   "metadata": {},
   "source": [
    "Many things closely follow a Normal Distribution:\n",
    "1. Heights of people\n",
    "2. Error in Measurement\n",
    "### & Marks on a test!"
   ]
  },
  {
   "cell_type": "markdown",
   "metadata": {},
   "source": [
    "Let us generate some data"
   ]
  },
  {
   "cell_type": "code",
   "execution_count": null,
   "metadata": {},
   "outputs": [],
   "source": []
  },
  {
   "cell_type": "markdown",
   "metadata": {},
   "source": [
    "### Law of Large Numbers"
   ]
  },
  {
   "cell_type": "code",
   "execution_count": 97,
   "metadata": {},
   "outputs": [
    {
     "name": "stdout",
     "output_type": "stream",
     "text": [
      "0.4949999999999999\n"
     ]
    },
    {
     "data": {
      "image/png": "[encoded data removed]",
      "text/plain": [
       "<Figure size 432x288 with 1 Axes>"
      ]
     },
     "metadata": {
      "needs_background": "light"
     },
     "output_type": "display_data"
    }
   ],
   "source": [
    "def lawLargeNumbers(mean, variance, samples):\n",
    "    marks = numpy.random.normal(mean, variance, samples)\n",
    "    plt.hist(marks,normed=True,bins=list(range(mean-5*variance,mean+5*variance)))\n",
    "    x = numpy.linspace(-100, 100, 100)\n",
    "    rv = multivariate_normal(mean, variance)\n",
    "    Z = rv.pdf(x)\n",
    "    print(Z.sum())\n",
    "    plt.plot(x,Z)\n",
    "    \n",
    "lawLargeNumbers(5,10,100)"
   ]
  },
  {
   "cell_type": "code",
   "execution_count": null,
   "metadata": {},
   "outputs": [],
   "source": []
  },
  {
   "cell_type": "code",
   "execution_count": null,
   "metadata": {},
   "outputs": [],
   "source": []
  },
  {
   "cell_type": "markdown",
   "metadata": {},
   "source": [
    "## Multivariate Gaussian Variables"
   ]
  },
  {
   "cell_type": "markdown",
   "metadata": {},
   "source": [
    "The probability distribution function for multivariate gaussian distribution in given by the bellow expression. Here μ is a vector of means of normal distribution in every dimension and Σ is the covariance matrix"
   ]
  },
  {
   "cell_type": "markdown",
   "metadata": {},
   "source": [
    "$$p(x \\mid \\mu, \\Sigma) = (2\\pi)^{-k/2}|\\Sigma|^{-1/2} \\exp\\left\\{ -\\frac{1}{2} (x-\\mu)^{\\prime}\\Sigma^{-1}(x-\\mu) \\right\\}$$"
   ]
  },
  {
   "cell_type": "markdown",
   "metadata": {},
   "source": [
    "### Visualisation of Gaussian Distribution in 2 variables"
   ]
  },
  {
   "cell_type": "code",
   "execution_count": 64,
   "metadata": {
    "scrolled": false
   },
   "outputs": [
    {
     "data": {
      "application/vnd.jupyter.widget-view+json": {
       "model_id": "c78e26a771604137be2919bcb6bfd1da",
       "version_major": 2,
       "version_minor": 0
      },
      "text/plain": [
       "interactive(children=(IntSlider(value=5, description='Mean1', max=10), IntSlider(value=5, description='Mean2',…"
      ]
     },
     "metadata": {},
     "output_type": "display_data"
    }
   ],
   "source": [
    "#nbi:hide_in\n",
    "def f(Mean1,Mean2,Cov11=1,Cov12=0,Cov21=0,Cov22=1):\n",
    "    \n",
    "    try: \n",
    "        Cov11=float(Cov11)\n",
    "        Cov12=float(Cov12)\n",
    "        Cov21=float(Cov21)\n",
    "        Cov22=float(Cov22)\n",
    "    except:\n",
    "        print(\"Invalid Covariance Values\")\n",
    "        return\n",
    "    \n",
    "    x = numpy.linspace(0, 10, 100)\n",
    "    y = numpy.linspace(0, 10, 100)\n",
    "    X, Y = numpy.meshgrid(x, y)\n",
    "    pos = numpy.dstack((X, Y))\n",
    "    mu = numpy.array([Mean1,Mean2])\n",
    "    try:\n",
    "        cov = numpy.array([[Cov11, Cov12],[Cov21, Cov22]])\n",
    "        rv = multivariate_normal(mu, cov)\n",
    "        Z = rv.pdf(pos)\n",
    "    except:\n",
    "        print(\"Invalid Covariance Matrix: Not a positive semi-definite Matrix\\nPlease try other values\")\n",
    "        return\n",
    "    \n",
    "    fig = plt.figure(figsize=(15,8))\n",
    "    \n",
    "    ax1 = fig.add_subplot(121, projection='3d')\n",
    "    ax1.plot_surface(X, Y, Z, cmap='RdPu')\n",
    "    ax2 = fig.add_subplot(122)\n",
    "    ax2.contourf(X,Y,Z,levels=25,cmap='RdPu')\n",
    "    \n",
    "    ax1.set_title(\"Probability Distribution Function\")\n",
    "    ax2.set_title(\"Contour Plot\")\n",
    "    \n",
    "    ax2.set_axis_off()\n",
    "    ax1.set_axis_off()\n",
    "    ax1.set_xticks([])\n",
    "    ax1.set_yticks([])\n",
    "    ax1.set_zticks([])\n",
    "\n",
    "t = interact(f, Mean1=(0,10),Mean2=(0,10), Cov11='5',Cov12='0',Cov21='0',Cov22='5');"
   ]
  },
  {
   "cell_type": "code",
   "execution_count": null,
   "metadata": {},
   "outputs": [],
   "source": []
  }
 ],
 "metadata": {
  "kernelspec": {
   "display_name": "Python 3",
   "language": "python",
   "name": "python3"
  },
  "language_info": {
   "codemirror_mode": {
    "name": "ipython",
    "version": 3
   },
   "file_extension": ".py",
   "mimetype": "text/x-python",
   "name": "python",
   "nbconvert_exporter": "python",
   "pygments_lexer": "ipython3",
   "version": "3.6.7"
  }
 },
 "nbformat": 4,
 "nbformat_minor": 2
}
